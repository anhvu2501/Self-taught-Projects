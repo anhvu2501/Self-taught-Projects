{
 "cells": [
  {
   "cell_type": "code",
   "execution_count": 1,
   "outputs": [],
   "source": [
    "import cv2\n",
    "import numpy as np\n",
    "import matplotlib.pyplot as plt"
   ],
   "metadata": {
    "collapsed": false,
    "pycharm": {
     "name": "#%%\n"
    }
   }
  },
  {
   "cell_type": "markdown",
   "source": [
    "<a name='1-1'></a>\n",
    "### 1.1 - Goal\n",
    "Use openCV and Deep Learning Model to build a simple autograde system\n",
    "\n",
    "### 1.2 - How to build\n",
    "- ***Detection***: Apply image processing methods to determine the position of objects in images, in order to be an input for Classification Step\n",
    "- ***Classification***: Apply Deep Learning model to classify the determined objects\n"
   ],
   "metadata": {
    "collapsed": false,
    "pycharm": {
     "name": "#%% md\n"
    }
   }
  },
  {
   "cell_type": "code",
   "execution_count": 2,
   "outputs": [],
   "source": [
    "img = cv2.imread(\"multiple_choice.jpg\", 0)\n",
    "img = cv2.resize(img, (720, 960), interpolation=cv2.INTER_AREA)\n",
    "blur = cv2.GaussianBlur(img, (5, 5), 0)\n",
    "thresh = cv2.adaptiveThreshold(blur, 255, cv2.ADAPTIVE_THRESH_GAUSSIAN_C, cv2.THRESH_BINARY_INV, 11, 2)"
   ],
   "metadata": {
    "collapsed": false,
    "pycharm": {
     "name": "#%%\n"
    }
   }
  },
  {
   "cell_type": "code",
   "execution_count": 4,
   "outputs": [
    {
     "name": "stdout",
     "output_type": "stream",
     "text": [
      "(960, 720)\n"
     ]
    }
   ],
   "source": [
    "cv2.imshow(\"Thresh\", thresh)\n",
    "cv2.waitKey(0)\n",
    "cv2.destroyAllWindows()\n",
    "print(img.shape)"
   ],
   "metadata": {
    "collapsed": false,
    "pycharm": {
     "name": "#%%\n"
    }
   }
  },
  {
   "cell_type": "code",
   "execution_count": 3,
   "outputs": [],
   "source": [
    "# Define horizontal and vertical lines in the image\n",
    "horizontal = thresh\n",
    "vertical = thresh\n",
    "\n",
    "scale_height = 20  # the bigger this scale is, the more vertical lines will be defined\n",
    "scale_long = 15\n",
    "\n",
    "long = int(img.shape[1] / scale_long)\n",
    "height = int(img.shape[0] / scale_height)\n",
    "\n",
    "# Opening\n",
    "# - Get the structure of images\n",
    "# - Erode\n",
    "# - And Dilate\n",
    "horizontal_structure = cv2.getStructuringElement(cv2.MORPH_RECT, (long, 1))\n",
    "horizontal = cv2.erode(horizontal, horizontal_structure, (-1, -1))\n",
    "horizontal = cv2.dilate(horizontal, horizontal_structure, (-1, -1))\n",
    "\n",
    "vertical_structure = cv2.getStructuringElement(cv2.MORPH_RECT, (1, height))\n",
    "vertical = cv2.erode(vertical, vertical_structure, (-1, -1))\n",
    "vertical = cv2.dilate(vertical, vertical_structure, (-1, -1))\n",
    "\n",
    "mask = vertical + horizontal\n",
    "\n",
    "### => we can successfully get all the horizontal and vertical lines in the image"
   ],
   "metadata": {
    "collapsed": false,
    "pycharm": {
     "name": "#%%\n"
    }
   }
  },
  {
   "cell_type": "code",
   "execution_count": 6,
   "outputs": [],
   "source": [
    "cv2.imshow(\"Mask\", mask)\n",
    "cv2.waitKey(0)\n",
    "cv2.destroyAllWindows()"
   ],
   "metadata": {
    "collapsed": false,
    "pycharm": {
     "name": "#%%\n"
    }
   }
  },
  {
   "cell_type": "code",
   "execution_count": 4,
   "outputs": [],
   "source": [
    "# Now we detect the position of table in the previous mask\n",
    "# findContours: help to take position of closed object in an image. It can take many positions of objects (here each line, each box can be a object)\n",
    "# But we just take the biggest object which is the whole table => that's why we're using max\n",
    "contours, hierarchy = cv2.findContours(mask, cv2.RETR_EXTERNAL, cv2.CHAIN_APPROX_SIMPLE)\n",
    "\n",
    "max = -1\n",
    "for cnt in contours:\n",
    "    x, y, w, h = cv2.boundingRect(cnt)\n",
    "    if cv2.contourArea(cnt) > max:\n",
    "        x_max, y_max, w_max, h_max = x, y, w, h\n",
    "        max = cv2.contourArea(cnt)\n",
    "\n",
    "table = img[y_max:y_max + h_max, x_max:x_max + w_max]"
   ],
   "metadata": {
    "collapsed": false,
    "pycharm": {
     "name": "#%%\n"
    }
   }
  },
  {
   "cell_type": "code",
   "execution_count": 23,
   "outputs": [],
   "source": [
    "cv2.imshow(\"After finding contours\", table)\n",
    "cv2.waitKey(0)\n",
    "cv2.destroyAllWindows()"
   ],
   "metadata": {
    "collapsed": false,
    "pycharm": {
     "name": "#%%\n"
    }
   }
  },
  {
   "cell_type": "markdown",
   "source": [
    "### Now, Get the answer\n",
    "- Now we'll divide the previous table by specific ratio to have each answer box.\n",
    "- Inside each answer box, we'll use findContours to define the character that is written in it.\n",
    "- Because the table has 19 rows, then we'll divide vertically into 19 parts, each part is 1 row\n",
    "- In each row, we can estimate that question box is approximately equal to 1/2 answer box, so we'll divide horizontally into 6 parts\n",
    "- Define coordinate for each answer box\n",
    "- Apply findContours for answer boxes to get the object inside them\n",
    "\n"
   ],
   "metadata": {
    "collapsed": false,
    "pycharm": {
     "name": "#%% md\n"
    }
   }
  },
  {
   "cell_type": "code",
   "execution_count": 9,
   "outputs": [],
   "source": [
    "cropped_thresh_img = []\n",
    "cropped_origin_img = []\n",
    "contours_img = []\n",
    "\n",
    "NUM_ROWS = 19  # number of rows for this problem\n",
    "START_ROW = 1\n",
    "\n",
    "for i in range(START_ROW, NUM_ROWS):\n",
    "    # Get each answer box in the first half\n",
    "    # Specifically, get the coordinate of row i, then get the coordinate of corresponding answer box i\n",
    "    thresh1 = thresh[y_max + round(i * h_max / NUM_ROWS):y_max + round((i + 1) * h_max / NUM_ROWS),\n",
    "              x_max + round(w_max / 6):x_max + round(w_max / 2)]\n",
    "    contours_thresh1, hierarchy_thresh1 = cv2.findContours(thresh1, cv2.RETR_EXTERNAL, cv2.CHAIN_APPROX_SIMPLE)\n",
    "    origin1 = img[y_max + round(i * h_max / NUM_ROWS):y_max + round((i + 1) * h_max / NUM_ROWS),\n",
    "              x_max + round(w_max / 6):x_max + round(w_max / 2)]\n",
    "\n",
    "    cropped_thresh_img.append(thresh1)\n",
    "    cropped_origin_img.append(origin1)\n",
    "    contours_img.append(contours_thresh1)\n",
    "\n",
    "for i in range(START_ROW, NUM_ROWS):\n",
    "    thresh1 = thresh[y_max + round(i * h_max / NUM_ROWS):y_max + round((i + 1) * h_max / NUM_ROWS),\n",
    "              x_max + round(2 * w_max / 3):x_max + round(w_max)]\n",
    "    contours_thresh1, hierarchy_thresh1 = cv2.findContours(thresh1, cv2.RETR_EXTERNAL, cv2.CHAIN_APPROX_SIMPLE)\n",
    "    origin1 = img[y_max + round(i * h_max / NUM_ROWS):y_max + round((i + 1) * h_max / NUM_ROWS),\n",
    "              x_max + round(2 * w_max / 3):x_max + round(w_max)]\n",
    "\n",
    "    cropped_thresh_img.append(thresh1)\n",
    "    cropped_origin_img.append(origin1)\n",
    "    contours_img.append(contours_thresh1)\n",
    "\n",
    "# With this condition(> 30), we'll only get contours that bigger than 30 (in order to remove noise)\n",
    "# And with contours we found, in order not to take the rims of answer box, we focus in the center of the box (0.1 * box_length to 0.9 * box_length) (just with this kind of problem)\n",
    "answers = []\n",
    "for i, contour_img in enumerate(contours_img):\n",
    "    for cnt in contour_img:\n",
    "        if cv2.contourArea(cnt) > 30:\n",
    "            x, y, w, h = cv2.boundingRect(cnt)\n",
    "            if cropped_origin_img[i].shape[1] * 0.1 < x < cropped_origin_img[i].shape[1] * 0.9:\n",
    "                answer = cropped_origin_img[i][y:y + h, x:x + w]\n",
    "                answer = cv2.threshold(answer, 160, 255, cv2.THRESH_BINARY_INV)[1]\n",
    "                answer = cv2.resize(answer, (28, 28), interpolation=cv2.INTER_AREA)\n",
    "                answers.append(answer)"
   ],
   "metadata": {
    "collapsed": false,
    "pycharm": {
     "name": "#%%\n"
    }
   }
  },
  {
   "cell_type": "code",
   "execution_count": 13,
   "outputs": [
    {
     "name": "stdout",
     "output_type": "stream",
     "text": [
      "(25, 28, 28)\n"
     ]
    }
   ],
   "source": [
    "answers = np.array(answers)\n",
    "print(answers.shape)"
   ],
   "metadata": {
    "collapsed": false,
    "pycharm": {
     "name": "#%%\n"
    }
   }
  },
  {
   "cell_type": "code",
   "execution_count": 16,
   "outputs": [],
   "source": [
    "cv2.imshow(\"Answer\", answer)\n",
    "cv2.waitKey(0)\n",
    "cv2.destroyAllWindows()"
   ],
   "metadata": {
    "collapsed": false,
    "pycharm": {
     "name": "#%%\n"
    }
   }
  },
  {
   "cell_type": "code",
   "execution_count": 19,
   "outputs": [],
   "source": [
    "import tensorflow\n",
    "from keras import models"
   ],
   "metadata": {
    "collapsed": false,
    "pycharm": {
     "name": "#%%\n"
    }
   }
  },
  {
   "cell_type": "code",
   "execution_count": 20,
   "outputs": [],
   "source": [
    "model = models.load_model('./letter_recognition_model.h5')"
   ],
   "metadata": {
    "collapsed": false,
    "pycharm": {
     "name": "#%%\n"
    }
   }
  },
  {
   "cell_type": "code",
   "execution_count": 23,
   "outputs": [
    {
     "name": "stdout",
     "output_type": "stream",
     "text": [
      "['O']\n"
     ]
    }
   ],
   "source": [
    "test_logits = model.predict(answers)\n",
    "test_logits = np.argmax(test_logits, axis=-1)\n",
    "res = [test_logits]\n",
    "letter = ['A', 'B', 'C', 'D']\n",
    "\n",
    "result = []\n",
    "for r in res:\n",
    "    if len(r) == 0:\n",
    "        result.append(\"X\")\n",
    "    elif len(r) > 1:\n",
    "        result.append(\"O\")\n",
    "    else:\n",
    "        result.append(letter[int(r[0])])\n",
    "\n",
    "print(result)"
   ],
   "metadata": {
    "collapsed": false,
    "pycharm": {
     "name": "#%%\n"
    }
   }
  }
 ],
 "metadata": {
  "kernelspec": {
   "display_name": "Python 3",
   "language": "python",
   "name": "python3"
  },
  "language_info": {
   "codemirror_mode": {
    "name": "ipython",
    "version": 2
   },
   "file_extension": ".py",
   "mimetype": "text/x-python",
   "name": "python",
   "nbconvert_exporter": "python",
   "pygments_lexer": "ipython2",
   "version": "2.7.6"
  }
 },
 "nbformat": 4,
 "nbformat_minor": 0
}