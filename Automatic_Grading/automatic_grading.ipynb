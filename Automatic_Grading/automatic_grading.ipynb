{
 "cells": [
  {
   "cell_type": "code",
   "execution_count": 1,
   "outputs": [],
   "source": [
    "import cv2\n",
    "import numpy as np\n",
    "import matplotlib.pyplot as plt"
   ],
   "metadata": {
    "collapsed": false,
    "pycharm": {
     "name": "#%%\n"
    }
   }
  },
  {
   "cell_type": "markdown",
   "source": [
    "<a name='1-1'></a>\n",
    "### 1.1 - Goal\n",
    "Use openCV and Deep Learning Model to build a simple autograde system\n",
    "\n",
    "### 1.2 - How to build\n",
    "- ***Detection***: Apply image processing methods to determine the position of objects in images, in order to be an input for Classification Step\n",
    "- ***Classification***: Apply Deep Learning model to classify the determined objects\n"
   ],
   "metadata": {
    "collapsed": false,
    "pycharm": {
     "name": "#%% md\n"
    }
   }
  },
  {
   "cell_type": "code",
   "execution_count": 2,
   "outputs": [],
   "source": [
    "img = cv2.imread(\"multiple_choice.jpg\", 0)\n",
    "img = cv2.resize(img, (720, 960), interpolation=cv2.INTER_AREA)\n",
    "blur = cv2.GaussianBlur(img, (5, 5), 0)\n",
    "thresh = cv2.adaptiveThreshold(blur, 255, cv2.ADAPTIVE_THRESH_GAUSSIAN_C, cv2.THRESH_BINARY_INV, 11, 2)"
   ],
   "metadata": {
    "collapsed": false,
    "pycharm": {
     "name": "#%%\n"
    }
   }
  },
  {
   "cell_type": "code",
   "execution_count": 4,
   "outputs": [
    {
     "name": "stdout",
     "output_type": "stream",
     "text": [
      "(960, 720)\n"
     ]
    }
   ],
   "source": [
    "cv2.imshow(\"Thresh\", thresh)\n",
    "cv2.waitKey(0)\n",
    "cv2.destroyAllWindows()\n",
    "print(img.shape)"
   ],
   "metadata": {
    "collapsed": false,
    "pycharm": {
     "name": "#%%\n"
    }
   }
  },
  {
   "cell_type": "code",
   "execution_count": 5,
   "outputs": [],
   "source": [
    "# Define horizontal and vertical lines in the image\n",
    "horizontal = thresh\n",
    "vertical = thresh\n",
    "\n",
    "scale_height = 20  # the bigger this scale is, the more vertical lines will be defined\n",
    "scale_long = 15\n",
    "\n",
    "long = int(img.shape[1] / scale_long)\n",
    "height = int(img.shape[0] / scale_height)\n",
    "\n",
    "# Opening\n",
    "# - Get the structure of images\n",
    "# - Erode\n",
    "# - And Dilate\n",
    "horizontal_structure = cv2.getStructuringElement(cv2.MORPH_RECT, (long, 1))\n",
    "horizontal = cv2.erode(horizontal, horizontal_structure, (-1, -1))\n",
    "horizontal = cv2.dilate(horizontal, horizontal_structure, (-1, -1))\n",
    "\n",
    "vertical_structure = cv2.getStructuringElement(cv2.MORPH_RECT, (1, height))\n",
    "vertical = cv2.erode(vertical, vertical_structure, (-1, -1))\n",
    "vertical = cv2.dilate(vertical, vertical_structure, (-1, -1))\n",
    "\n",
    "mask = vertical + horizontal\n",
    "\n",
    "### => we can successfully get all the horizontal and vertical lines in the image"
   ],
   "metadata": {
    "collapsed": false,
    "pycharm": {
     "name": "#%%\n"
    }
   }
  },
  {
   "cell_type": "code",
   "execution_count": 6,
   "outputs": [],
   "source": [
    "cv2.imshow(\"Mask\", mask)\n",
    "cv2.waitKey(0)\n",
    "cv2.destroyAllWindows()"
   ],
   "metadata": {
    "collapsed": false,
    "pycharm": {
     "name": "#%%\n"
    }
   }
  },
  {
   "cell_type": "code",
   "execution_count": 15,
   "outputs": [],
   "source": [
    "# Now we detect the position of table in the previous mask\n",
    "# findContours: help to take position of closed object in an image. It can take many positions of objects (here each line, each box can be a object)\n",
    "# But we just take the biggest object which is the whole table => that's why we're using max\n",
    "contours, hierarchy = cv2.findContours(mask, cv2.RETR_EXTERNAL, cv2.CHAIN_APPROX_SIMPLE)\n",
    "\n",
    "max = -1\n",
    "for cnt in contours:\n",
    "    x, y, w, h = cv2.boundingRect(cnt)\n",
    "    if cv2.contourArea(cnt) > max:\n",
    "        x_max, y_max, w_max, h_max = x, y, w, h\n",
    "        max = cv2.contourArea(cnt)\n",
    "\n",
    "table = img[y_max:y_max + h_max, x_max:x_max + w_max]"
   ],
   "metadata": {
    "collapsed": false,
    "pycharm": {
     "name": "#%%\n"
    }
   }
  },
  {
   "cell_type": "code",
   "execution_count": 23,
   "outputs": [],
   "source": [
    "cv2.imshow(\"After finding contours\", table)\n",
    "cv2.waitKey(0)\n",
    "cv2.destroyAllWindows()"
   ],
   "metadata": {
    "collapsed": false,
    "pycharm": {
     "name": "#%%\n"
    }
   }
  },
  {
   "cell_type": "markdown",
   "source": [
    "### Now, Get the answer\n",
    "- Now we'll divide the previous table by specific ratio to have each answer box.\n",
    "- Inside each answer box, we'll use findContours to define the character that is written in it.\n",
    "- Because the table has 19 rows, then we'll divide vertically into 19 parts, each part is 1 row\n",
    "- In each row, we can estimate that question box is approximately equal to 1/2 answer box, so we'll divide horizontally into 6 parts\n",
    "- Define coordinate for each answer box\n",
    "- Apply findContours for answer boxes to get the object inside them\n",
    "\n"
   ],
   "metadata": {
    "collapsed": false,
    "pycharm": {
     "name": "#%% md\n"
    }
   }
  },
  {
   "cell_type": "code",
   "execution_count": 34,
   "outputs": [],
   "source": [
    "cropped_thresh_img = []\n",
    "cropped_origin_img = []\n",
    "contours_img = []\n",
    "\n",
    "NUM_ROWS = 19  # number of rows for this problem\n",
    "START_ROW = 1\n",
    "\n",
    "for i in range(START_ROW, NUM_ROWS):\n",
    "    # Get each answer box in the first half\n",
    "    # Specifically, get the coordinate of row i, then get the coordinate of corresponding answer box i\n",
    "    thresh1 = thresh[y_max + round(i * h_max / NUM_ROWS):y_max + round((i + 1) * h_max / NUM_ROWS),\n",
    "              x_max + round(w_max / 6):x_max + round(w_max / 2)]\n",
    "    contours_thresh1, hierarchy_thresh1 = cv2.findContours(thresh1, cv2.RETR_EXTERNAL, cv2.CHAIN_APPROX_SIMPLE)\n",
    "    origin1 = img[y_max + round(i * h_max / NUM_ROWS):y_max + round((i + 1) * h_max / NUM_ROWS),\n",
    "              x_max + round(w_max / 6):x_max + round(w_max / 2)]\n",
    "\n",
    "    cropped_thresh_img.append(thresh1)\n",
    "    cropped_origin_img.append(origin1)\n",
    "    contours_img.append(contours_thresh1)\n",
    "\n",
    "for i in range(START_ROW, NUM_ROWS):\n",
    "    thresh1 = thresh[y_max + round(i * h_max / NUM_ROWS):y_max + round((i + 1) * h_max / NUM_ROWS),\n",
    "              x_max + round(2 * w_max / 3):x_max + round(w_max)]\n",
    "    contours_thresh1, hierarchy_thresh1 = cv2.findContours(thresh1, cv2.RETR_EXTERNAL, cv2.CHAIN_APPROX_SIMPLE)\n",
    "    origin1 = img[y_max + round(i * h_max / NUM_ROWS):y_max + round((i + 1) * h_max / NUM_ROWS),\n",
    "              x_max + round(2 * w_max / 3):x_max + round(w_max)]\n",
    "\n",
    "    cropped_thresh_img.append(thresh1)\n",
    "    cropped_origin_img.append(origin1)\n",
    "    contours_img.append(contours_thresh1)\n",
    "\n",
    "# With this condition(> 30), we'll only get contours that bigger than 30 (in order to remove noise)\n",
    "# And with contours we found, in order not to take the rims of answer box, we focus in the center of the box (0.1 * box_length to 0.9 * box_length) (just with this kind of problem)\n",
    "for i, contour_img in enumerate(contours_img):\n",
    "    for cnt in contour_img:\n",
    "        if cv2.contourArea(cnt) > 30:\n",
    "            x, y, w, h = cv2.boundingRect(cnt)\n",
    "            if cropped_origin_img[i].shape[1] * 0.1 < x < cropped_origin_img[i].shape[1] * 0.9:\n",
    "                answer = cropped_origin_img[i][y:y + h, x:x + w]\n",
    "                answer = cv2.threshold(answer, 160, 255, cv2.THRESH_BINARY_INV)[1]\n",
    "                answer = cv2.resize(answer, (28, 28), interpolation=cv2.INTER_AREA)\n"
   ],
   "metadata": {
    "collapsed": false,
    "pycharm": {
     "name": "#%%\n"
    }
   }
  },
  {
   "cell_type": "code",
   "execution_count": 35,
   "outputs": [],
   "source": [
    "cv2.imshow(\"Answer\", answer)\n",
    "cv2.waitKey(0)\n",
    "cv2.destroyAllWindows()"
   ],
   "metadata": {
    "collapsed": false,
    "pycharm": {
     "name": "#%%\n"
    }
   }
  },
  {
   "cell_type": "code",
   "execution_count": 31,
   "outputs": [],
   "source": [
    "import tensorflow\n",
    "from keras import models"
   ],
   "metadata": {
    "collapsed": false,
    "pycharm": {
     "name": "#%%\n"
    }
   }
  },
  {
   "cell_type": "code",
   "execution_count": 32,
   "outputs": [],
   "source": [
    "model = models.load_model('./letter_recognition_model.h5')"
   ],
   "metadata": {
    "collapsed": false,
    "pycharm": {
     "name": "#%%\n"
    }
   }
  },
  {
   "cell_type": "code",
   "execution_count": 36,
   "outputs": [
    {
     "ename": "ValueError",
     "evalue": "Error when checking input: expected conv2d_input to have 4 dimensions, but got array with shape (28, 28)",
     "output_type": "error",
     "traceback": [
      "\u001B[0;31m---------------------------------------------------------------------------\u001B[0m",
      "\u001B[0;31mValueError\u001B[0m                                Traceback (most recent call last)",
      "Input \u001B[0;32mIn [36]\u001B[0m, in \u001B[0;36m<cell line: 1>\u001B[0;34m()\u001B[0m\n\u001B[0;32m----> 1\u001B[0m res \u001B[38;5;241m=\u001B[39m [np\u001B[38;5;241m.\u001B[39margmax(\u001B[43mmodel\u001B[49m\u001B[38;5;241;43m.\u001B[39;49m\u001B[43mpredict\u001B[49m\u001B[43m(\u001B[49m\u001B[43manswer\u001B[49m\u001B[43m)\u001B[49m, axis\u001B[38;5;241m=\u001B[39m\u001B[38;5;241m-\u001B[39m\u001B[38;5;241m1\u001B[39m)]\n\u001B[1;32m      2\u001B[0m letter \u001B[38;5;241m=\u001B[39m [\u001B[38;5;124m'\u001B[39m\u001B[38;5;124mA\u001B[39m\u001B[38;5;124m'\u001B[39m, \u001B[38;5;124m'\u001B[39m\u001B[38;5;124mB\u001B[39m\u001B[38;5;124m'\u001B[39m, \u001B[38;5;124m'\u001B[39m\u001B[38;5;124mC\u001B[39m\u001B[38;5;124m'\u001B[39m, \u001B[38;5;124m'\u001B[39m\u001B[38;5;124mD\u001B[39m\u001B[38;5;124m'\u001B[39m]\n\u001B[1;32m      4\u001B[0m result \u001B[38;5;241m=\u001B[39m []\n",
      "File \u001B[0;32m~/Self-taught Project/Automatic_Grading/venv/lib/python3.8/site-packages/keras/engine/training_v1.py:970\u001B[0m, in \u001B[0;36mModel.predict\u001B[0;34m(self, x, batch_size, verbose, steps, callbacks, max_queue_size, workers, use_multiprocessing)\u001B[0m\n\u001B[1;32m    967\u001B[0m \u001B[38;5;28mself\u001B[39m\u001B[38;5;241m.\u001B[39m_check_call_args(\u001B[38;5;124m'\u001B[39m\u001B[38;5;124mpredict\u001B[39m\u001B[38;5;124m'\u001B[39m)\n\u001B[1;32m    969\u001B[0m func \u001B[38;5;241m=\u001B[39m \u001B[38;5;28mself\u001B[39m\u001B[38;5;241m.\u001B[39m_select_training_loop(x)\n\u001B[0;32m--> 970\u001B[0m \u001B[38;5;28;01mreturn\u001B[39;00m \u001B[43mfunc\u001B[49m\u001B[38;5;241;43m.\u001B[39;49m\u001B[43mpredict\u001B[49m\u001B[43m(\u001B[49m\n\u001B[1;32m    971\u001B[0m \u001B[43m    \u001B[49m\u001B[38;5;28;43mself\u001B[39;49m\u001B[43m,\u001B[49m\n\u001B[1;32m    972\u001B[0m \u001B[43m    \u001B[49m\u001B[43mx\u001B[49m\u001B[38;5;241;43m=\u001B[39;49m\u001B[43mx\u001B[49m\u001B[43m,\u001B[49m\n\u001B[1;32m    973\u001B[0m \u001B[43m    \u001B[49m\u001B[43mbatch_size\u001B[49m\u001B[38;5;241;43m=\u001B[39;49m\u001B[43mbatch_size\u001B[49m\u001B[43m,\u001B[49m\n\u001B[1;32m    974\u001B[0m \u001B[43m    \u001B[49m\u001B[43mverbose\u001B[49m\u001B[38;5;241;43m=\u001B[39;49m\u001B[43mverbose\u001B[49m\u001B[43m,\u001B[49m\n\u001B[1;32m    975\u001B[0m \u001B[43m    \u001B[49m\u001B[43msteps\u001B[49m\u001B[38;5;241;43m=\u001B[39;49m\u001B[43msteps\u001B[49m\u001B[43m,\u001B[49m\n\u001B[1;32m    976\u001B[0m \u001B[43m    \u001B[49m\u001B[43mcallbacks\u001B[49m\u001B[38;5;241;43m=\u001B[39;49m\u001B[43mcallbacks\u001B[49m\u001B[43m,\u001B[49m\n\u001B[1;32m    977\u001B[0m \u001B[43m    \u001B[49m\u001B[43mmax_queue_size\u001B[49m\u001B[38;5;241;43m=\u001B[39;49m\u001B[43mmax_queue_size\u001B[49m\u001B[43m,\u001B[49m\n\u001B[1;32m    978\u001B[0m \u001B[43m    \u001B[49m\u001B[43mworkers\u001B[49m\u001B[38;5;241;43m=\u001B[39;49m\u001B[43mworkers\u001B[49m\u001B[43m,\u001B[49m\n\u001B[1;32m    979\u001B[0m \u001B[43m    \u001B[49m\u001B[43muse_multiprocessing\u001B[49m\u001B[38;5;241;43m=\u001B[39;49m\u001B[43muse_multiprocessing\u001B[49m\u001B[43m)\u001B[49m\n",
      "File \u001B[0;32m~/Self-taught Project/Automatic_Grading/venv/lib/python3.8/site-packages/keras/engine/training_arrays_v1.py:698\u001B[0m, in \u001B[0;36mArrayLikeTrainingLoop.predict\u001B[0;34m(self, model, x, batch_size, verbose, steps, callbacks, **kwargs)\u001B[0m\n\u001B[1;32m    689\u001B[0m \u001B[38;5;28;01mdef\u001B[39;00m \u001B[38;5;21mpredict\u001B[39m(\u001B[38;5;28mself\u001B[39m,\n\u001B[1;32m    690\u001B[0m             model,\n\u001B[1;32m    691\u001B[0m             x,\n\u001B[0;32m   (...)\u001B[0m\n\u001B[1;32m    695\u001B[0m             callbacks\u001B[38;5;241m=\u001B[39m\u001B[38;5;28;01mNone\u001B[39;00m,\n\u001B[1;32m    696\u001B[0m             \u001B[38;5;241m*\u001B[39m\u001B[38;5;241m*\u001B[39mkwargs):\n\u001B[1;32m    697\u001B[0m   batch_size \u001B[38;5;241m=\u001B[39m model\u001B[38;5;241m.\u001B[39m_validate_or_infer_batch_size(batch_size, steps, x)\n\u001B[0;32m--> 698\u001B[0m   x, _, _ \u001B[38;5;241m=\u001B[39m \u001B[43mmodel\u001B[49m\u001B[38;5;241;43m.\u001B[39;49m\u001B[43m_standardize_user_data\u001B[49m\u001B[43m(\u001B[49m\n\u001B[1;32m    699\u001B[0m \u001B[43m      \u001B[49m\u001B[43mx\u001B[49m\u001B[43m,\u001B[49m\u001B[43m \u001B[49m\u001B[43mcheck_steps\u001B[49m\u001B[38;5;241;43m=\u001B[39;49m\u001B[38;5;28;43;01mTrue\u001B[39;49;00m\u001B[43m,\u001B[49m\u001B[43m \u001B[49m\u001B[43msteps_name\u001B[49m\u001B[38;5;241;43m=\u001B[39;49m\u001B[38;5;124;43m'\u001B[39;49m\u001B[38;5;124;43msteps\u001B[39;49m\u001B[38;5;124;43m'\u001B[39;49m\u001B[43m,\u001B[49m\u001B[43m \u001B[49m\u001B[43msteps\u001B[49m\u001B[38;5;241;43m=\u001B[39;49m\u001B[43msteps\u001B[49m\u001B[43m)\u001B[49m\n\u001B[1;32m    700\u001B[0m   \u001B[38;5;28;01mreturn\u001B[39;00m predict_loop(\n\u001B[1;32m    701\u001B[0m       model,\n\u001B[1;32m    702\u001B[0m       x,\n\u001B[0;32m   (...)\u001B[0m\n\u001B[1;32m    705\u001B[0m       steps\u001B[38;5;241m=\u001B[39msteps,\n\u001B[1;32m    706\u001B[0m       callbacks\u001B[38;5;241m=\u001B[39mcallbacks)\n",
      "File \u001B[0;32m~/Self-taught Project/Automatic_Grading/venv/lib/python3.8/site-packages/keras/engine/training_v1.py:2335\u001B[0m, in \u001B[0;36mModel._standardize_user_data\u001B[0;34m(self, x, y, sample_weight, class_weight, batch_size, check_steps, steps_name, steps, validation_split, shuffle, extract_tensors_from_dataset)\u001B[0m\n\u001B[1;32m   2331\u001B[0m \u001B[38;5;28;01mif\u001B[39;00m (\u001B[38;5;129;01mnot\u001B[39;00m run_eagerly \u001B[38;5;129;01mand\u001B[39;00m is_build_called \u001B[38;5;129;01mand\u001B[39;00m is_compile_called \u001B[38;5;129;01mand\u001B[39;00m\n\u001B[1;32m   2332\u001B[0m     \u001B[38;5;129;01mnot\u001B[39;00m is_dataset  \u001B[38;5;129;01mand\u001B[39;00m \u001B[38;5;28many\u001B[39m(_is_symbolic_tensor(v) \u001B[38;5;28;01mfor\u001B[39;00m v \u001B[38;5;129;01min\u001B[39;00m all_inputs)):\n\u001B[1;32m   2333\u001B[0m   \u001B[38;5;28;01mreturn\u001B[39;00m [], [], \u001B[38;5;28;01mNone\u001B[39;00m\n\u001B[0;32m-> 2335\u001B[0m \u001B[38;5;28;01mreturn\u001B[39;00m \u001B[38;5;28;43mself\u001B[39;49m\u001B[38;5;241;43m.\u001B[39;49m\u001B[43m_standardize_tensors\u001B[49m\u001B[43m(\u001B[49m\n\u001B[1;32m   2336\u001B[0m \u001B[43m    \u001B[49m\u001B[43mx\u001B[49m\u001B[43m,\u001B[49m\u001B[43m \u001B[49m\u001B[43my\u001B[49m\u001B[43m,\u001B[49m\u001B[43m \u001B[49m\u001B[43msample_weight\u001B[49m\u001B[43m,\u001B[49m\n\u001B[1;32m   2337\u001B[0m \u001B[43m    \u001B[49m\u001B[43mrun_eagerly\u001B[49m\u001B[38;5;241;43m=\u001B[39;49m\u001B[43mrun_eagerly\u001B[49m\u001B[43m,\u001B[49m\n\u001B[1;32m   2338\u001B[0m \u001B[43m    \u001B[49m\u001B[43mdict_inputs\u001B[49m\u001B[38;5;241;43m=\u001B[39;49m\u001B[43mdict_inputs\u001B[49m\u001B[43m,\u001B[49m\n\u001B[1;32m   2339\u001B[0m \u001B[43m    \u001B[49m\u001B[43mis_dataset\u001B[49m\u001B[38;5;241;43m=\u001B[39;49m\u001B[43mis_dataset\u001B[49m\u001B[43m,\u001B[49m\n\u001B[1;32m   2340\u001B[0m \u001B[43m    \u001B[49m\u001B[43mclass_weight\u001B[49m\u001B[38;5;241;43m=\u001B[39;49m\u001B[43mclass_weight\u001B[49m\u001B[43m,\u001B[49m\n\u001B[1;32m   2341\u001B[0m \u001B[43m    \u001B[49m\u001B[43mbatch_size\u001B[49m\u001B[38;5;241;43m=\u001B[39;49m\u001B[43mbatch_size\u001B[49m\u001B[43m)\u001B[49m\n",
      "File \u001B[0;32m~/Self-taught Project/Automatic_Grading/venv/lib/python3.8/site-packages/keras/engine/training_v1.py:2363\u001B[0m, in \u001B[0;36mModel._standardize_tensors\u001B[0;34m(self, x, y, sample_weight, run_eagerly, dict_inputs, is_dataset, class_weight, batch_size)\u001B[0m\n\u001B[1;32m   2360\u001B[0m \u001B[38;5;66;03m# Standardize the inputs.\u001B[39;00m\n\u001B[1;32m   2361\u001B[0m \u001B[38;5;28;01mif\u001B[39;00m \u001B[38;5;129;01mnot\u001B[39;00m \u001B[38;5;28misinstance\u001B[39m(x, (tf\u001B[38;5;241m.\u001B[39mcompat\u001B[38;5;241m.\u001B[39mv1\u001B[38;5;241m.\u001B[39mdata\u001B[38;5;241m.\u001B[39mDataset, tf\u001B[38;5;241m.\u001B[39mdata\u001B[38;5;241m.\u001B[39mDataset)):\n\u001B[1;32m   2362\u001B[0m   \u001B[38;5;66;03m# TODO(fchollet): run static checks with dataset output shape(s).\u001B[39;00m\n\u001B[0;32m-> 2363\u001B[0m   x \u001B[38;5;241m=\u001B[39m \u001B[43mtraining_utils_v1\u001B[49m\u001B[38;5;241;43m.\u001B[39;49m\u001B[43mstandardize_input_data\u001B[49m\u001B[43m(\u001B[49m\n\u001B[1;32m   2364\u001B[0m \u001B[43m      \u001B[49m\u001B[43mx\u001B[49m\u001B[43m,\u001B[49m\n\u001B[1;32m   2365\u001B[0m \u001B[43m      \u001B[49m\u001B[43mfeed_input_names\u001B[49m\u001B[43m,\u001B[49m\n\u001B[1;32m   2366\u001B[0m \u001B[43m      \u001B[49m\u001B[43mfeed_input_shapes\u001B[49m\u001B[43m,\u001B[49m\n\u001B[1;32m   2367\u001B[0m \u001B[43m      \u001B[49m\u001B[43mcheck_batch_axis\u001B[49m\u001B[38;5;241;43m=\u001B[39;49m\u001B[38;5;28;43;01mFalse\u001B[39;49;00m\u001B[43m,\u001B[49m\u001B[43m  \u001B[49m\u001B[38;5;66;43;03m# Don't enforce the batch size.\u001B[39;49;00m\n\u001B[1;32m   2368\u001B[0m \u001B[43m      \u001B[49m\u001B[43mexception_prefix\u001B[49m\u001B[38;5;241;43m=\u001B[39;49m\u001B[38;5;124;43m'\u001B[39;49m\u001B[38;5;124;43minput\u001B[39;49m\u001B[38;5;124;43m'\u001B[39;49m\u001B[43m)\u001B[49m\n\u001B[1;32m   2370\u001B[0m \u001B[38;5;66;03m# Get typespecs for the input data and sanitize it if necessary.\u001B[39;00m\n\u001B[1;32m   2371\u001B[0m \u001B[38;5;66;03m# TODO(momernick): This should be capable of doing full input validation\u001B[39;00m\n\u001B[1;32m   2372\u001B[0m \u001B[38;5;66;03m# at all times - validate that this is so and refactor the standardization\u001B[39;00m\n\u001B[1;32m   2373\u001B[0m \u001B[38;5;66;03m# code.\u001B[39;00m\n\u001B[1;32m   2374\u001B[0m \u001B[38;5;28;01mif\u001B[39;00m \u001B[38;5;28misinstance\u001B[39m(x, tf\u001B[38;5;241m.\u001B[39mdata\u001B[38;5;241m.\u001B[39mDataset):\n",
      "File \u001B[0;32m~/Self-taught Project/Automatic_Grading/venv/lib/python3.8/site-packages/keras/engine/training_utils_v1.py:633\u001B[0m, in \u001B[0;36mstandardize_input_data\u001B[0;34m(data, names, shapes, check_batch_axis, exception_prefix)\u001B[0m\n\u001B[1;32m    631\u001B[0m shape \u001B[38;5;241m=\u001B[39m shapes[i]\n\u001B[1;32m    632\u001B[0m \u001B[38;5;28;01mif\u001B[39;00m \u001B[38;5;28mlen\u001B[39m(data_shape) \u001B[38;5;241m!=\u001B[39m \u001B[38;5;28mlen\u001B[39m(shape):\n\u001B[0;32m--> 633\u001B[0m   \u001B[38;5;28;01mraise\u001B[39;00m \u001B[38;5;167;01mValueError\u001B[39;00m(\u001B[38;5;124m'\u001B[39m\u001B[38;5;124mError when checking \u001B[39m\u001B[38;5;124m'\u001B[39m \u001B[38;5;241m+\u001B[39m exception_prefix \u001B[38;5;241m+\u001B[39m\n\u001B[1;32m    634\u001B[0m                    \u001B[38;5;124m'\u001B[39m\u001B[38;5;124m: expected \u001B[39m\u001B[38;5;124m'\u001B[39m \u001B[38;5;241m+\u001B[39m names[i] \u001B[38;5;241m+\u001B[39m \u001B[38;5;124m'\u001B[39m\u001B[38;5;124m to have \u001B[39m\u001B[38;5;124m'\u001B[39m \u001B[38;5;241m+\u001B[39m\n\u001B[1;32m    635\u001B[0m                    \u001B[38;5;28mstr\u001B[39m(\u001B[38;5;28mlen\u001B[39m(shape)) \u001B[38;5;241m+\u001B[39m \u001B[38;5;124m'\u001B[39m\u001B[38;5;124m dimensions, but got array \u001B[39m\u001B[38;5;124m'\u001B[39m\n\u001B[1;32m    636\u001B[0m                    \u001B[38;5;124m'\u001B[39m\u001B[38;5;124mwith shape \u001B[39m\u001B[38;5;124m'\u001B[39m \u001B[38;5;241m+\u001B[39m \u001B[38;5;28mstr\u001B[39m(data_shape))\n\u001B[1;32m    637\u001B[0m \u001B[38;5;28;01mif\u001B[39;00m \u001B[38;5;129;01mnot\u001B[39;00m check_batch_axis:\n\u001B[1;32m    638\u001B[0m   data_shape \u001B[38;5;241m=\u001B[39m data_shape[\u001B[38;5;241m1\u001B[39m:]\n",
      "\u001B[0;31mValueError\u001B[0m: Error when checking input: expected conv2d_input to have 4 dimensions, but got array with shape (28, 28)"
     ]
    }
   ],
   "source": [
    "res = [np.argmax(model.predict(answer), axis=-1)]\n",
    "letter = ['A', 'B', 'C', 'D']\n",
    "\n",
    "result = []\n",
    "for r in res:\n",
    "    if len(r) == 0:\n",
    "        result.append(\"X\")\n",
    "    elif len(r) > 1:\n",
    "        result.append(\"O\")\n",
    "    else:\n",
    "        result.append(letter[int(r[0])])\n",
    "\n",
    "print(result)"
   ],
   "metadata": {
    "collapsed": false,
    "pycharm": {
     "name": "#%%\n"
    }
   }
  }
 ],
 "metadata": {
  "kernelspec": {
   "display_name": "Python 3",
   "language": "python",
   "name": "python3"
  },
  "language_info": {
   "codemirror_mode": {
    "name": "ipython",
    "version": 2
   },
   "file_extension": ".py",
   "mimetype": "text/x-python",
   "name": "python",
   "nbconvert_exporter": "python",
   "pygments_lexer": "ipython2",
   "version": "2.7.6"
  }
 },
 "nbformat": 4,
 "nbformat_minor": 0
}