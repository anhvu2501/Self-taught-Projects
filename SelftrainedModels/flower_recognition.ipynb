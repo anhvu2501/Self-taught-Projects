{
 "cells": [
  {
   "cell_type": "code",
   "execution_count": 1,
   "metadata": {
    "collapsed": true,
    "pycharm": {
     "name": "#%%\n"
    }
   },
   "outputs": [
    {
     "name": "stderr",
     "output_type": "stream",
     "text": [
      "2022-05-24 21:15:48.449996: W tensorflow/stream_executor/platform/default/dso_loader.cc:64] Could not load dynamic library 'libcudart.so.11.0'; dlerror: libcudart.so.11.0: cannot open shared object file: No such file or directory\n",
      "2022-05-24 21:15:48.450022: I tensorflow/stream_executor/cuda/cudart_stub.cc:29] Ignore above cudart dlerror if you do not have a GPU set up on your machine.\n"
     ]
    }
   ],
   "source": [
    "from pathlib import Path\n",
    "\n",
    "import keras.regularizers\n",
    "import numpy as np\n",
    "from keras.preprocessing import image"
   ]
  },
  {
   "cell_type": "code",
   "execution_count": 2,
   "outputs": [],
   "source": [
    "def load_data():\n",
    "    p = Path(\"./flowers/\")\n",
    "\n",
    "    dirs = p.glob(\"*\")\n",
    "\n",
    "    image_data = []\n",
    "    labels = []\n",
    "\n",
    "    image_paths = []\n",
    "\n",
    "    labels_dict = {\"daisy\": 0, \"dandelion\": 1, \"rose\": 2, \"sunflower\": 3, \"tulip\": 4}\n",
    "\n",
    "    for folder_dir in dirs:\n",
    "        label = str(folder_dir).split('/')[-1]\n",
    "        # print(label)\n",
    "\n",
    "        cnt = 0\n",
    "        # print(folder_dir)\n",
    "\n",
    "        # Iterate over folder_dir and pick all images of flowers\n",
    "\n",
    "        for img_path in folder_dir.glob(\"*.jpg\"):\n",
    "            # print(img_path)\n",
    "            img = image.load_img(img_path, target_size=(64, 64))\n",
    "            img_array = image.img_to_array(img)\n",
    "            image_data.append(img_array)\n",
    "            labels.append(labels_dict[label])\n",
    "            cnt += 1\n",
    "        # print(image_data[0].shape)\n",
    "        # print(cnt)\n",
    "\n",
    "    # print(len(image_data))\n",
    "    # print(len(labels))\n",
    "\n",
    "    X = np.array(image_data)\n",
    "    Y = np.array(labels)\n",
    "    return X, Y"
   ],
   "metadata": {
    "collapsed": false,
    "pycharm": {
     "name": "#%%\n"
    }
   }
  },
  {
   "cell_type": "code",
   "execution_count": 3,
   "outputs": [],
   "source": [
    "import pandas as pd\n",
    "import tensorflow as tf\n",
    "from keras import backend\n",
    "from keras import models, layers\n",
    "from keras import regularizers\n",
    "from keras.utils.np_utils import to_categorical\n",
    "from matplotlib import pyplot as plt\n",
    "from sklearn.model_selection import train_test_split"
   ],
   "metadata": {
    "collapsed": false,
    "pycharm": {
     "name": "#%%\n"
    }
   }
  },
  {
   "cell_type": "code",
   "execution_count": 4,
   "outputs": [],
   "source": [
    "X, y = load_data()"
   ],
   "metadata": {
    "collapsed": false,
    "pycharm": {
     "name": "#%%\n"
    }
   }
  },
  {
   "cell_type": "code",
   "execution_count": 18,
   "outputs": [
    {
     "name": "stdout",
     "output_type": "stream",
     "text": [
      "Model: \"sequential\"\n",
      "_________________________________________________________________\n",
      " Layer (type)                Output Shape              Param #   \n",
      "=================================================================\n",
      " conv2d (Conv2D)             (None, 64, 64, 64)        1792      \n",
      "                                                                 \n",
      " conv2d_1 (Conv2D)           (None, 64, 64, 64)        36928     \n",
      "                                                                 \n",
      " dropout (Dropout)           (None, 64, 64, 64)        0         \n",
      "                                                                 \n",
      " max_pooling2d (MaxPooling2D  (None, 32, 32, 64)       0         \n",
      " )                                                               \n",
      "                                                                 \n",
      " conv2d_2 (Conv2D)           (None, 32, 32, 128)       73856     \n",
      "                                                                 \n",
      " conv2d_3 (Conv2D)           (None, 32, 32, 128)       147584    \n",
      "                                                                 \n",
      " dropout_1 (Dropout)         (None, 32, 32, 128)       0         \n",
      "                                                                 \n",
      " max_pooling2d_1 (MaxPooling  (None, 16, 16, 128)      0         \n",
      " 2D)                                                             \n",
      "                                                                 \n",
      " flatten (Flatten)           (None, 32768)             0         \n",
      "                                                                 \n",
      " dense (Dense)               (None, 64)                2097216   \n",
      "                                                                 \n",
      " dense_1 (Dense)             (None, 64)                4160      \n",
      "                                                                 \n",
      " dense_2 (Dense)             (None, 5)                 325       \n",
      "                                                                 \n",
      "=================================================================\n",
      "Total params: 2,361,861\n",
      "Trainable params: 2,361,861\n",
      "Non-trainable params: 0\n",
      "_________________________________________________________________\n"
     ]
    }
   ],
   "source": [
    "X_train, X_test, y_train, y_test = train_test_split(X, y, test_size=0.3, random_state=20)\n",
    "X_train = X_train / 255.0\n",
    "X_test = X_test / 255.0\n",
    "y_train = to_categorical(y_train, 5)\n",
    "y_test = to_categorical(y_test, 5)\n",
    "\n",
    "backend.clear_session()\n",
    "\n",
    "np.random.seed(42)\n",
    "tf.random.set_seed(42)\n",
    "\n",
    "model = models.Sequential()\n",
    "model.add(layers.Conv2D(64, kernel_size=3, strides=1, padding='same', activation='relu', input_shape=(64, 64, 3)))\n",
    "model.add(layers.Conv2D(64, kernel_size=3, strides=1, padding='same', activation='relu'))\n",
    "model.add(layers.Dropout(0.5))\n",
    "model.add(layers.MaxPooling2D((2, 2), strides=2))\n",
    "model.add(layers.Conv2D(128, kernel_size=3, strides=1, padding='same', activation='relu'))\n",
    "model.add(layers.Conv2D(128, kernel_size=3, strides=1, padding='same', activation='relu'))\n",
    "model.add(layers.Dropout(0.5))\n",
    "model.add(layers.MaxPooling2D((2, 2), strides=2))\n",
    "model.add(layers.Flatten())\n",
    "model.add(layers.Dense(64, activation='relu', kernel_regularizer=regularizers.L2(0.01)))\n",
    "model.add(layers.Dense(64, activation='relu', kernel_regularizer=regularizers.L2(0.01)))\n",
    "model.add(layers.Dense(5, activation='softmax'))\n",
    "\n",
    "model.compile(optimizer='adam', loss='categorical_crossentropy', metrics=['accuracy'])\n",
    "model.summary()"
   ],
   "metadata": {
    "collapsed": false,
    "pycharm": {
     "name": "#%%\n"
    }
   }
  },
  {
   "cell_type": "code",
   "execution_count": 19,
   "outputs": [
    {
     "name": "stdout",
     "output_type": "stream",
     "text": [
      "Epoch 1/30\n",
      "189/189 [==============================] - 80s 418ms/step - loss: 1.9696 - accuracy: 0.3208\n",
      "Epoch 2/30\n",
      "189/189 [==============================] - 79s 418ms/step - loss: 1.4131 - accuracy: 0.4611\n",
      "Epoch 3/30\n",
      "189/189 [==============================] - 79s 417ms/step - loss: 1.2492 - accuracy: 0.5475\n",
      "Epoch 4/30\n",
      "189/189 [==============================] - 79s 418ms/step - loss: 1.1348 - accuracy: 0.6147\n",
      "Epoch 5/30\n",
      "189/189 [==============================] - 79s 420ms/step - loss: 1.0598 - accuracy: 0.6521\n",
      "Epoch 6/30\n",
      "189/189 [==============================] - 77s 407ms/step - loss: 0.9951 - accuracy: 0.6806\n",
      "Epoch 7/30\n",
      "189/189 [==============================] - 75s 397ms/step - loss: 0.9496 - accuracy: 0.6935\n",
      "Epoch 8/30\n",
      "189/189 [==============================] - 77s 405ms/step - loss: 0.9623 - accuracy: 0.7094\n",
      "Epoch 9/30\n",
      "189/189 [==============================] - 80s 424ms/step - loss: 0.8866 - accuracy: 0.7345\n",
      "Epoch 10/30\n",
      "189/189 [==============================] - 80s 421ms/step - loss: 0.8505 - accuracy: 0.7514\n",
      "Epoch 11/30\n",
      "189/189 [==============================] - 80s 422ms/step - loss: 0.8249 - accuracy: 0.7709\n",
      "Epoch 12/30\n",
      "189/189 [==============================] - 80s 424ms/step - loss: 0.7971 - accuracy: 0.7865\n",
      "Epoch 13/30\n",
      "189/189 [==============================] - 80s 426ms/step - loss: 0.7983 - accuracy: 0.7938\n",
      "Epoch 14/30\n",
      "189/189 [==============================] - 80s 426ms/step - loss: 0.7733 - accuracy: 0.8080\n",
      "Epoch 15/30\n",
      "189/189 [==============================] - 81s 427ms/step - loss: 0.7389 - accuracy: 0.8186\n",
      "Epoch 16/30\n",
      "189/189 [==============================] - 81s 427ms/step - loss: 0.7608 - accuracy: 0.8272\n",
      "Epoch 17/30\n",
      "189/189 [==============================] - 81s 426ms/step - loss: 0.7230 - accuracy: 0.8408\n",
      "Epoch 18/30\n",
      "189/189 [==============================] - 81s 426ms/step - loss: 0.7384 - accuracy: 0.8328\n",
      "Epoch 19/30\n",
      "189/189 [==============================] - 81s 427ms/step - loss: 0.6888 - accuracy: 0.8547\n",
      "Epoch 20/30\n",
      "189/189 [==============================] - 81s 427ms/step - loss: 0.6698 - accuracy: 0.8636\n",
      "Epoch 21/30\n",
      "189/189 [==============================] - 82s 433ms/step - loss: 0.6679 - accuracy: 0.8633\n",
      "Epoch 22/30\n",
      "189/189 [==============================] - 80s 423ms/step - loss: 0.6645 - accuracy: 0.8775\n",
      "Epoch 23/30\n",
      "189/189 [==============================] - 80s 423ms/step - loss: 0.6219 - accuracy: 0.8888\n",
      "Epoch 24/30\n",
      "189/189 [==============================] - 80s 421ms/step - loss: 0.6332 - accuracy: 0.8884\n",
      "Epoch 25/30\n",
      "189/189 [==============================] - 79s 420ms/step - loss: 0.6252 - accuracy: 0.8875\n",
      "Epoch 26/30\n",
      "189/189 [==============================] - 80s 425ms/step - loss: 0.6020 - accuracy: 0.8964\n",
      "Epoch 27/30\n",
      "189/189 [==============================] - 80s 425ms/step - loss: 0.6279 - accuracy: 0.8957\n",
      "Epoch 28/30\n",
      "189/189 [==============================] - 78s 414ms/step - loss: 0.6608 - accuracy: 0.8858\n",
      "Epoch 29/30\n",
      "189/189 [==============================] - 75s 396ms/step - loss: 0.5708 - accuracy: 0.9166\n",
      "Epoch 30/30\n",
      "189/189 [==============================] - 75s 398ms/step - loss: 0.5727 - accuracy: 0.9106\n"
     ]
    },
    {
     "data": {
      "text/plain": "<Figure size 576x360 with 1 Axes>",
      "image/png": "[encoded data removed]"
     },
     "metadata": {
      "needs_background": "light"
     },
     "output_type": "display_data"
    }
   ],
   "source": [
    "history = model.fit(X_train, y_train, epochs=30, batch_size=16)\n",
    "\n",
    "# Once the training is complete, plot the loss and accuracy metrics of the model\n",
    "pd.DataFrame(history.history).plot(figsize=(8, 5))\n",
    "plt.grid(True)\n",
    "plt.gca().set_ylim(0, 1)\n",
    "plt.show()"
   ],
   "metadata": {
    "collapsed": false,
    "pycharm": {
     "name": "#%%\n"
    }
   }
  },
  {
   "cell_type": "code",
   "execution_count": 20,
   "outputs": [
    {
     "name": "stdout",
     "output_type": "stream",
     "text": [
      "41/41 [==============================] - 5s 127ms/step - loss: 1.2598 - accuracy: 0.6512\n"
     ]
    },
    {
     "data": {
      "text/plain": "[1.259824275970459, 0.6512345671653748]"
     },
     "execution_count": 20,
     "metadata": {},
     "output_type": "execute_result"
    }
   ],
   "source": [
    "model.evaluate(X_test, y_test)"
   ],
   "metadata": {
    "collapsed": false,
    "pycharm": {
     "name": "#%%\n"
    }
   }
  }
 ],
 "metadata": {
  "kernelspec": {
   "display_name": "Python 3",
   "language": "python",
   "name": "python3"
  },
  "language_info": {
   "codemirror_mode": {
    "name": "ipython",
    "version": 2
   },
   "file_extension": ".py",
   "mimetype": "text/x-python",
   "name": "python",
   "nbconvert_exporter": "python",
   "pygments_lexer": "ipython2",
   "version": "2.7.6"
  }
 },
 "nbformat": 4,
 "nbformat_minor": 0
}